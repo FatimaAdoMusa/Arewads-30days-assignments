

first_name = 'Adewoye'
last_name = 'saheed'
full_name='Adewoye saheed'
country = 'Nigeria'
city = 'Ilorin'
age = 100
year=2023
is_married = False
is_true=True
is_light_on = False

# Declaring multiple variables in one line

first_name, age, is_married = 'Adewoye', 100 , False

# checking the data type of the variables

print(type(first_name))
print(type(last_name))
print(type(full_name))
print(type(country))
print(type(city))
print(type(age))
print(type(year))
print(type(is_married)) 
print(type(is_true))
print(type(is_light_on))

# length of first name

print(len(first_name))

# comparison between the length of first name and last name

print(len(first_name) > len(last_name))



num_one=5
num_two=4
total=num_one + num_two
diff=num_one - num_two
product=num_one * num_two
division=num_one / num_two
remainder=num_two % num_one
exp=num_one **num_two
floor_division=num_one // num_two

# radius and circumference of a curcle

radius=30
area_of_circle= 3.142 * radius**2
print(area_of_circle)

circum_of_circle = 2 * 3.142 * radius
print(circum_of_circle)


 
# radius of a circle as per user input

radius_in=int(input('enter radius: '))
area_of_circle= 3.142 * radius_in**2
print(area_of_circle)
# using input function

first_name=input('enter first name: ')
last_name=input('enter last name: ')
country=input('enter country: ')
age=input('enter age: ')

print('first name:', first_name)
print('last name:', last_name)
print('country:', country)
print('age:', age)
# reserved words in python

help('keywords')